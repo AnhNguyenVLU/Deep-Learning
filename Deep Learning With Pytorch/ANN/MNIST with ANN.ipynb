{
 "cells": [
  {
   "cell_type": "code",
   "execution_count": 1,
   "id": "0b81fc99-187b-423e-aa5d-148bbc271045",
   "metadata": {},
   "outputs": [
    {
     "name": "stderr",
     "output_type": "stream",
     "text": [
      "/opt/conda/lib/python3.9/site-packages/requests/__init__.py:102: RequestsDependencyWarning: urllib3 (2.0.3) or chardet (5.1.0)/charset_normalizer (3.1.0) doesn't match a supported version!\n",
      "  warnings.warn(\"urllib3 ({}) or chardet ({})/charset_normalizer ({}) doesn't match a supported \"\n"
     ]
    }
   ],
   "source": [
    "import torch\n",
    "import torch.nn as nn\n",
    "import torch.optim as optim\n",
    "from torch.utils.data import DataLoader\n",
    "from torchvision.datasets import MNIST\n",
    "from torchvision.transforms import ToTensor\n",
    "from torchsummary import summary\n",
    "import matplotlib.pyplot as plt"
   ]
  },
  {
   "cell_type": "code",
   "execution_count": 2,
   "id": "a2fa1b8b-76c8-4f99-b9f0-1c00a43c6183",
   "metadata": {},
   "outputs": [],
   "source": [
    "device = torch.device('cuda' if torch.cuda.is_available() else 'cpu')"
   ]
  },
  {
   "cell_type": "code",
   "execution_count": 3,
   "id": "d69e6b45-bef6-4559-a115-d1e8e0c58dc2",
   "metadata": {},
   "outputs": [],
   "source": [
    "# Load dữ liệu từ bộ dữ liệu MNIST\n",
    "train_dataset = MNIST(root='./data', train=True, transform=ToTensor(), download=True)\n",
    "test_dataset = MNIST(root='./data', train=False, transform=ToTensor())"
   ]
  },
  {
   "cell_type": "code",
   "execution_count": 4,
   "id": "5bf783b7-29ac-47d4-a82a-2f96a9d635d0",
   "metadata": {},
   "outputs": [],
   "source": [
    "# Tạo DataLoader tải dữ liệu dạng batch\n",
    "train_loader = DataLoader(dataset=train_dataset, batch_size=64, shuffle=True)\n",
    "test_loader = DataLoader(dataset=test_dataset, batch_size=64, shuffle=False)"
   ]
  },
  {
   "cell_type": "code",
   "execution_count": 5,
   "id": "a8b460cc-30f9-4626-93aa-cfa19dd96ee5",
   "metadata": {},
   "outputs": [],
   "source": [
    "# Mô hình ANN\n",
    "class ANN(nn.Module):\n",
    "    def __init__(self):\n",
    "        super(ANN, self).__init__()\n",
    "        self.flatten = nn.Flatten()\n",
    "        self.fc1 = nn.Linear(28*28, 128)\n",
    "        self.relu = nn.ReLU()\n",
    "        self.fc2 = nn.Linear(128, 10)\n",
    "        self.softmax = nn.Softmax(dim=1)\n",
    "        \n",
    "    def forward(self, x):\n",
    "        x = self.flatten(x)\n",
    "        x = self.fc1(x)\n",
    "        x = self.relu(x)\n",
    "        x = self.fc2(x)\n",
    "        x = self.softmax(x)\n",
    "        return x"
   ]
  },
  {
   "cell_type": "code",
   "execution_count": 6,
   "id": "7a1620bd-0c33-4d85-a48e-6817b157d6c0",
   "metadata": {},
   "outputs": [],
   "source": [
    "model = ANN().to(device)"
   ]
  },
  {
   "cell_type": "code",
   "execution_count": 7,
   "id": "292c0a26-8f32-491b-b0a5-fb063f6a5fe3",
   "metadata": {},
   "outputs": [],
   "source": [
    "# Hàm loss và optimizer\n",
    "criterion = nn.CrossEntropyLoss()\n",
    "optimizer = optim.Adam(model.parameters(), lr=0.001)"
   ]
  },
  {
   "cell_type": "code",
   "execution_count": 8,
   "id": "b89164dc-93d7-4dbf-970b-66d95b79183a",
   "metadata": {},
   "outputs": [
    {
     "name": "stdout",
     "output_type": "stream",
     "text": [
      "Epoch [1/10], Step [100/938], Loss: 1.6545\n",
      "Epoch [1/10], Step [200/938], Loss: 1.5996\n",
      "Epoch [1/10], Step [300/938], Loss: 1.5738\n",
      "Epoch [1/10], Step [400/938], Loss: 1.5505\n",
      "Epoch [1/10], Step [500/938], Loss: 1.5273\n",
      "Epoch [1/10], Step [600/938], Loss: 1.5623\n",
      "Epoch [1/10], Step [700/938], Loss: 1.5678\n",
      "Epoch [1/10], Step [800/938], Loss: 1.5226\n",
      "Epoch [1/10], Step [900/938], Loss: 1.5441\n",
      "Train Accuracy: 92.97%\n",
      "Test Accuracy: 92.85%\n",
      "Epoch [2/10], Step [100/938], Loss: 1.5393\n",
      "Epoch [2/10], Step [200/938], Loss: 1.5286\n",
      "Epoch [2/10], Step [300/938], Loss: 1.5406\n",
      "Epoch [2/10], Step [400/938], Loss: 1.5748\n",
      "Epoch [2/10], Step [500/938], Loss: 1.5206\n",
      "Epoch [2/10], Step [600/938], Loss: 1.5333\n",
      "Epoch [2/10], Step [700/938], Loss: 1.5762\n",
      "Epoch [2/10], Step [800/938], Loss: 1.5167\n",
      "Epoch [2/10], Step [900/938], Loss: 1.5338\n",
      "Train Accuracy: 94.25%\n",
      "Test Accuracy: 94.02%\n",
      "Epoch [3/10], Step [100/938], Loss: 1.5070\n",
      "Epoch [3/10], Step [200/938], Loss: 1.5432\n",
      "Epoch [3/10], Step [300/938], Loss: 1.5342\n",
      "Epoch [3/10], Step [400/938], Loss: 1.4899\n",
      "Epoch [3/10], Step [500/938], Loss: 1.5118\n",
      "Epoch [3/10], Step [600/938], Loss: 1.5704\n",
      "Epoch [3/10], Step [700/938], Loss: 1.5340\n",
      "Epoch [3/10], Step [800/938], Loss: 1.5438\n",
      "Epoch [3/10], Step [900/938], Loss: 1.5103\n",
      "Train Accuracy: 95.66%\n",
      "Test Accuracy: 95.29%\n",
      "Epoch [4/10], Step [100/938], Loss: 1.5293\n",
      "Epoch [4/10], Step [200/938], Loss: 1.4837\n",
      "Epoch [4/10], Step [300/938], Loss: 1.5096\n",
      "Epoch [4/10], Step [400/938], Loss: 1.5533\n",
      "Epoch [4/10], Step [500/938], Loss: 1.5164\n",
      "Epoch [4/10], Step [600/938], Loss: 1.4963\n",
      "Epoch [4/10], Step [700/938], Loss: 1.4894\n",
      "Epoch [4/10], Step [800/938], Loss: 1.5167\n",
      "Epoch [4/10], Step [900/938], Loss: 1.5021\n",
      "Train Accuracy: 96.36%\n",
      "Test Accuracy: 95.82%\n",
      "Epoch [5/10], Step [100/938], Loss: 1.5273\n",
      "Epoch [5/10], Step [200/938], Loss: 1.5060\n",
      "Epoch [5/10], Step [300/938], Loss: 1.5540\n",
      "Epoch [5/10], Step [400/938], Loss: 1.5036\n",
      "Epoch [5/10], Step [500/938], Loss: 1.4811\n",
      "Epoch [5/10], Step [600/938], Loss: 1.4824\n",
      "Epoch [5/10], Step [700/938], Loss: 1.5623\n",
      "Epoch [5/10], Step [800/938], Loss: 1.4804\n",
      "Epoch [5/10], Step [900/938], Loss: 1.4737\n",
      "Train Accuracy: 97.08%\n",
      "Test Accuracy: 96.44%\n",
      "Epoch [6/10], Step [100/938], Loss: 1.4877\n",
      "Epoch [6/10], Step [200/938], Loss: 1.4800\n",
      "Epoch [6/10], Step [300/938], Loss: 1.4943\n",
      "Epoch [6/10], Step [400/938], Loss: 1.5114\n",
      "Epoch [6/10], Step [500/938], Loss: 1.4949\n",
      "Epoch [6/10], Step [600/938], Loss: 1.5336\n",
      "Epoch [6/10], Step [700/938], Loss: 1.4813\n",
      "Epoch [6/10], Step [800/938], Loss: 1.4755\n",
      "Epoch [6/10], Step [900/938], Loss: 1.4817\n",
      "Train Accuracy: 97.27%\n",
      "Test Accuracy: 96.50%\n",
      "Epoch [7/10], Step [100/938], Loss: 1.5007\n",
      "Epoch [7/10], Step [200/938], Loss: 1.4628\n",
      "Epoch [7/10], Step [300/938], Loss: 1.5172\n",
      "Epoch [7/10], Step [400/938], Loss: 1.4750\n",
      "Epoch [7/10], Step [500/938], Loss: 1.4802\n",
      "Epoch [7/10], Step [600/938], Loss: 1.4625\n",
      "Epoch [7/10], Step [700/938], Loss: 1.4654\n",
      "Epoch [7/10], Step [800/938], Loss: 1.4806\n",
      "Epoch [7/10], Step [900/938], Loss: 1.5365\n",
      "Train Accuracy: 97.83%\n",
      "Test Accuracy: 96.85%\n",
      "Epoch [8/10], Step [100/938], Loss: 1.4631\n",
      "Epoch [8/10], Step [200/938], Loss: 1.4695\n",
      "Epoch [8/10], Step [300/938], Loss: 1.4824\n",
      "Epoch [8/10], Step [400/938], Loss: 1.5106\n",
      "Epoch [8/10], Step [500/938], Loss: 1.4973\n",
      "Epoch [8/10], Step [600/938], Loss: 1.5096\n",
      "Epoch [8/10], Step [700/938], Loss: 1.4837\n",
      "Epoch [8/10], Step [800/938], Loss: 1.4769\n",
      "Epoch [8/10], Step [900/938], Loss: 1.5006\n",
      "Train Accuracy: 98.06%\n",
      "Test Accuracy: 97.20%\n",
      "Epoch [9/10], Step [100/938], Loss: 1.4683\n",
      "Epoch [9/10], Step [200/938], Loss: 1.5081\n",
      "Epoch [9/10], Step [300/938], Loss: 1.4942\n",
      "Epoch [9/10], Step [400/938], Loss: 1.4790\n",
      "Epoch [9/10], Step [500/938], Loss: 1.4670\n",
      "Epoch [9/10], Step [600/938], Loss: 1.5085\n",
      "Epoch [9/10], Step [700/938], Loss: 1.4811\n",
      "Epoch [9/10], Step [800/938], Loss: 1.5156\n",
      "Epoch [9/10], Step [900/938], Loss: 1.4924\n",
      "Train Accuracy: 98.10%\n",
      "Test Accuracy: 96.97%\n",
      "Epoch [10/10], Step [100/938], Loss: 1.4647\n",
      "Epoch [10/10], Step [200/938], Loss: 1.4949\n",
      "Epoch [10/10], Step [300/938], Loss: 1.4848\n",
      "Epoch [10/10], Step [400/938], Loss: 1.4946\n",
      "Epoch [10/10], Step [500/938], Loss: 1.4776\n",
      "Epoch [10/10], Step [600/938], Loss: 1.4674\n",
      "Epoch [10/10], Step [700/938], Loss: 1.4780\n",
      "Epoch [10/10], Step [800/938], Loss: 1.4832\n",
      "Epoch [10/10], Step [900/938], Loss: 1.4771\n",
      "Train Accuracy: 98.20%\n",
      "Test Accuracy: 97.20%\n"
     ]
    }
   ],
   "source": [
    "train_loss_history = []\n",
    "train_acc_history = []\n",
    "# Huấn luyện mô hình\n",
    "num_epochs = 10\n",
    "total_step = len(train_loader)\n",
    "for epoch in range(num_epochs):\n",
    "    for i, (images, labels) in enumerate(train_loader):\n",
    "        images = images.to(device)\n",
    "        labels = labels.to(device)\n",
    "        outputs = model(images)\n",
    "        loss = criterion(outputs, labels)\n",
    "        optimizer.zero_grad()\n",
    "        loss.backward()\n",
    "        optimizer.step()\n",
    "        \n",
    "        if (i+1) % 100 == 0:\n",
    "            print(f'Epoch [{epoch+1}/{num_epochs}], Step [{i+1}/{total_step}], Loss: {loss.item():.4f}')\n",
    "    # Đánh giá trên tập huấn luyện và tính accuracy\n",
    "    model.eval()\n",
    "    with torch.no_grad():\n",
    "        correct = 0\n",
    "        total = 0\n",
    "        for images, labels in train_loader:\n",
    "            images = images.to(device)\n",
    "            labels = labels.to(device)\n",
    "            outputs = model(images)\n",
    "            _, predicted = torch.max(outputs.data, 1)\n",
    "            total += labels.size(0)\n",
    "            correct += (predicted == labels).sum().item()\n",
    "\n",
    "        train_accuracy = correct / total\n",
    "        train_loss_history.append(loss.item())\n",
    "        train_acc_history.append(train_accuracy)\n",
    "        print(f'Train Accuracy: {100*train_accuracy:.2f}%')\n",
    "    #Tính accuracy trên tập kiểm tra\n",
    "    model.eval()\n",
    "    with torch.no_grad():\n",
    "        correct = 0\n",
    "        total = 0\n",
    "        for images, labels in test_loader:\n",
    "            images = images.to(device)\n",
    "            labels = labels.to(device)\n",
    "            outputs = model(images)\n",
    "            _, predicted = torch.max(outputs.data, 1)\n",
    "            total += labels.size(0)\n",
    "            correct += (predicted == labels).sum().item()\n",
    "\n",
    "        test_accuracy = correct / total\n",
    "        print(f'Test Accuracy: {100*test_accuracy:.2f}%')"
   ]
  },
  {
   "cell_type": "code",
   "execution_count": 9,
   "id": "c3e49d1d-acf7-4925-a6c5-478fef51ac0e",
   "metadata": {},
   "outputs": [
    {
     "data": {
      "image/png": "[encoded data removed]",
      "text/plain": [
       "<Figure size 720x360 with 2 Axes>"
      ]
     },
     "metadata": {
      "needs_background": "light"
     },
     "output_type": "display_data"
    }
   ],
   "source": [
    "# Đồ thị loss và accuracy\n",
    "epochs = range(1, num_epochs+1)\n",
    "plt.figure(figsize=(10, 5))\n",
    "plt.subplot(1, 2, 1)\n",
    "plt.plot(epochs, train_loss_history, label='Training Loss')\n",
    "plt.xlabel('Epoch')\n",
    "plt.ylabel('Loss')\n",
    "plt.title('Training Loss')\n",
    "plt.legend()\n",
    "plt.subplot(1, 2, 2)\n",
    "plt.plot(epochs, train_acc_history, label='Training Accuracy')\n",
    "plt.xlabel('Epoch')\n",
    "plt.ylabel('Accuracy')\n",
    "plt.title('Training Accuracy')\n",
    "plt.legend()\n",
    "plt.tight_layout()\n",
    "plt.show()"
   ]
  }
 ],
 "metadata": {
  "kernelspec": {
   "display_name": "Python 3 (ipykernel)",
   "language": "python",
   "name": "python3"
  },
  "language_info": {
   "codemirror_mode": {
    "name": "ipython",
    "version": 3
   },
   "file_extension": ".py",
   "mimetype": "text/x-python",
   "name": "python",
   "nbconvert_exporter": "python",
   "pygments_lexer": "ipython3",
   "version": "3.9.7"
  }
 },
 "nbformat": 4,
 "nbformat_minor": 5
}
