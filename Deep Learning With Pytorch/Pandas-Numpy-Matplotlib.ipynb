{
 "cells": [
  {
   "cell_type": "markdown",
   "id": "8e9f13b1-35e0-45f3-9f70-377d89a89554",
   "metadata": {},
   "source": [
    "# Pandas"
   ]
  },
  {
   "cell_type": "code",
   "execution_count": 1,
   "id": "6b551cbe-4f3e-4725-8f0b-97f873ae3117",
   "metadata": {},
   "outputs": [],
   "source": [
    "import pandas as pd\n",
    "# Tạo DataFrame từ một dictionary\n",
    "data = {'Ten': ['Anh', 'Tiến', 'Nga', 'Vinh'],\n",
    "        'Tuoi': [25, 28, 31, 35],\n",
    "        'TP': ['New York', 'London', 'Paris', 'Tokyo']}\n",
    "df = pd.DataFrame(data)"
   ]
  },
  {
   "cell_type": "code",
   "execution_count": 2,
   "id": "7d0b8907-30d2-4cfc-b0e6-f6dc172af1d0",
   "metadata": {},
   "outputs": [
    {
     "name": "stdout",
     "output_type": "stream",
     "text": [
      "    Ten  Tuoi        TP\n",
      "0   Anh    25  New York\n",
      "1  Tiến    28    London\n",
      "2   Nga    31     Paris\n",
      "3  Vinh    35     Tokyo\n"
     ]
    }
   ],
   "source": [
    "# Hiển thị DataFrame\n",
    "print(df)"
   ]
  },
  {
   "cell_type": "code",
   "execution_count": 3,
   "id": "2fc67364-1e2a-441a-a915-f07f809f0764",
   "metadata": {},
   "outputs": [
    {
     "name": "stdout",
     "output_type": "stream",
     "text": [
      "0     Anh\n",
      "1    Tiến\n",
      "2     Nga\n",
      "3    Vinh\n",
      "Name: Ten, dtype: object\n"
     ]
    }
   ],
   "source": [
    "# Lấy thông tin cột Tên\n",
    "print(df['Ten'])"
   ]
  },
  {
   "cell_type": "code",
   "execution_count": 4,
   "id": "7665c5ff-52cf-4e82-9a99-685148079fbc",
   "metadata": {},
   "outputs": [
    {
     "name": "stdout",
     "output_type": "stream",
     "text": [
      "    Ten  Tuoi     TP\n",
      "2   Nga    31  Paris\n",
      "3  Vinh    35  Tokyo\n"
     ]
    }
   ],
   "source": [
    "# Lấy dữ liệu có tuổi lớn hơn 30\n",
    "a = df[df['Tuoi'] > 30]\n",
    "print(a)"
   ]
  },
  {
   "cell_type": "markdown",
   "id": "8c073f3f-1802-47c4-9d8e-9778fc202b8b",
   "metadata": {},
   "source": [
    "# Numpy"
   ]
  },
  {
   "cell_type": "code",
   "execution_count": 5,
   "id": "96bd3b92-edbe-44c1-88c2-0b497397bf8f",
   "metadata": {},
   "outputs": [],
   "source": [
    "import numpy as np\n",
    "# Tạo một mảng numpy\n",
    "arr = np.array([10, 40, 15, -69, -1])"
   ]
  },
  {
   "cell_type": "code",
   "execution_count": 6,
   "id": "c7ea7abe-4c38-48cb-9846-f33d27236ab7",
   "metadata": {},
   "outputs": [
    {
     "name": "stdout",
     "output_type": "stream",
     "text": [
      "Tổng các phần tử trong mảng: -5\n"
     ]
    }
   ],
   "source": [
    "# Tính tổng các phần tử trong mảng\n",
    "sum = np.sum(arr)\n",
    "print(\"Tổng các phần tử trong mảng:\", sum)"
   ]
  },
  {
   "cell_type": "code",
   "execution_count": 7,
   "id": "d5719fad-a6fe-4d9f-b53c-a9065902d7cb",
   "metadata": {},
   "outputs": [
    {
     "name": "stdout",
     "output_type": "stream",
     "text": [
      "Các giá trị ngẫu nhiên:\n",
      "[[0.48466187 0.94416006 0.88285335]\n",
      " [0.60347235 0.58453987 0.38122293]\n",
      " [0.79820413 0.66474212 0.58516211]]\n"
     ]
    }
   ],
   "source": [
    "# Tạo một mảng 2D với các giá trị ngẫu nhiên\n",
    "random = np.random.rand(3, 3)\n",
    "print(\"Các giá trị ngẫu nhiên:\")\n",
    "print(random)"
   ]
  },
  {
   "cell_type": "code",
   "execution_count": 8,
   "id": "7e61fe67-c56b-4456-8a2e-08348c24c896",
   "metadata": {},
   "outputs": [
    {
     "name": "stdout",
     "output_type": "stream",
     "text": [
      "Trung bình cộng theo cột:\n",
      "[0.62877945 0.73114735 0.61641279]\n"
     ]
    }
   ],
   "source": [
    "# Tính trung bình cộng theo cột\n",
    "mean = np.mean(random, axis=0)\n",
    "print(\"Trung bình cộng theo cột:\")\n",
    "print(mean)"
   ]
  },
  {
   "cell_type": "markdown",
   "id": "01a0c1c6-f1e8-4b87-8283-43426ae352c0",
   "metadata": {},
   "source": [
    "# Matplotlib"
   ]
  },
  {
   "cell_type": "code",
   "execution_count": 9,
   "id": "dd60fc61-1529-43d5-a517-fba169306933",
   "metadata": {},
   "outputs": [
    {
     "data": {
      "image/png": "[encoded data removed]",
      "text/plain": [
       "<Figure size 432x288 with 1 Axes>"
      ]
     },
     "metadata": {
      "needs_background": "light"
     },
     "output_type": "display_data"
    }
   ],
   "source": [
    "import matplotlib.pyplot as plt\n",
    "x = np.linspace(0, 10, 100)\n",
    "y = np.sin(x)\n",
    "\n",
    "# Vẽ đồ thị sin(x)\n",
    "plt.plot(x, y)\n",
    "plt.xlabel('X')\n",
    "plt.ylabel('Y')\n",
    "plt.title('Đồ thị hàm sin(x)')\n",
    "plt.show()\n"
   ]
  }
 ],
 "metadata": {
  "kernelspec": {
   "display_name": "Python 3 (ipykernel)",
   "language": "python",
   "name": "python3"
  },
  "language_info": {
   "codemirror_mode": {
    "name": "ipython",
    "version": 3
   },
   "file_extension": ".py",
   "mimetype": "text/x-python",
   "name": "python",
   "nbconvert_exporter": "python",
   "pygments_lexer": "ipython3",
   "version": "3.9.7"
  }
 },
 "nbformat": 4,
 "nbformat_minor": 5
}
